{
 "cells": [
  {
   "cell_type": "code",
   "execution_count": null,
   "id": "89bd46e2",
   "metadata": {},
   "outputs": [],
   "source": [
    "Q1. What are the characteristics of the tuples? Is tuple immutable"
   ]
  },
  {
   "cell_type": "code",
   "execution_count": null,
   "id": "d4332c52",
   "metadata": {},
   "outputs": [],
   "source": [
    "Yes, tuple is immutable. \n",
    "Ordered collection of elements\n",
    "Tuples can contain elements of different data types like list\n",
    "Can access individual elements of a tuple using index notation\n",
    "Tuples can be iterated over using loops"
   ]
  },
  {
   "cell_type": "code",
   "execution_count": null,
   "id": "5277154f",
   "metadata": {},
   "outputs": [],
   "source": []
  },
  {
   "cell_type": "code",
   "execution_count": null,
   "id": "6e6ff10a",
   "metadata": {},
   "outputs": [],
   "source": [
    "Q2. What are the two tuple methods in python? Give an example of each method. Give a reason why\n",
    "tuples have only two in-built methods as compared to Lists."
   ]
  },
  {
   "cell_type": "code",
   "execution_count": null,
   "id": "6c0fec1b",
   "metadata": {},
   "outputs": [],
   "source": [
    "Count , Index"
   ]
  },
  {
   "cell_type": "code",
   "execution_count": 6,
   "id": "45870272",
   "metadata": {},
   "outputs": [],
   "source": [
    "t = (1,2,3,4,5,2,3)"
   ]
  },
  {
   "cell_type": "code",
   "execution_count": 8,
   "id": "3ffb5353",
   "metadata": {},
   "outputs": [
    {
     "data": {
      "text/plain": [
       "2"
      ]
     },
     "execution_count": 8,
     "metadata": {},
     "output_type": "execute_result"
    }
   ],
   "source": [
    "t.count(2)"
   ]
  },
  {
   "cell_type": "code",
   "execution_count": 10,
   "id": "f36eabf6",
   "metadata": {},
   "outputs": [
    {
     "data": {
      "text/plain": [
       "3"
      ]
     },
     "execution_count": 10,
     "metadata": {},
     "output_type": "execute_result"
    }
   ],
   "source": [
    "t.index(4)"
   ]
  },
  {
   "cell_type": "code",
   "execution_count": null,
   "id": "83878fad",
   "metadata": {},
   "outputs": [],
   "source": [
    "The reason why tuples have only two built-in methods as compared to lists is that tuples are designed to be immutable, \n",
    "and therefore theres no need for methods that modify the tuple. \n",
    "The two methods provided for tuples are useful for basic operations like counting occurrences and finding indices. \n",
    "Since tuples cannot be changed after creation, there is no requirement for methods like append(), extend(), insert(), \n",
    "remove(), or pop(), which are available for lists and allow them to be modified."
   ]
  },
  {
   "cell_type": "code",
   "execution_count": null,
   "id": "8593da17",
   "metadata": {},
   "outputs": [],
   "source": []
  },
  {
   "cell_type": "code",
   "execution_count": null,
   "id": "4a4e991b",
   "metadata": {},
   "outputs": [],
   "source": [
    "Q3. Which collection datatypes in python do not allow duplicate items? Write a code using a set to remove\n",
    "duplicates from the given list.\n",
    "List = [1, 1, 1, 2, 1, 3, 1, 4, 2, 1, 2, 2, 2, 3, 2, 4, 3, 1, 3, 2, 3, 3, 3, 4, 4, 1, 4, 2, 4, 3, 4, 4]"
   ]
  },
  {
   "cell_type": "code",
   "execution_count": null,
   "id": "ecdb934d",
   "metadata": {},
   "outputs": [],
   "source": [
    "Sets do not allow duplicate items"
   ]
  },
  {
   "cell_type": "code",
   "execution_count": 12,
   "id": "b0f680f2",
   "metadata": {},
   "outputs": [],
   "source": [
    "List = [1, 1, 1, 2, 1, 3, 1, 4, 2, 1, 2, 2, 2, 3, 2, 4, 3, 1, 3, 2, 3, 3, 3, 4, 4, 1, 4, 2, 4, 3, 4, 4]"
   ]
  },
  {
   "cell_type": "code",
   "execution_count": 21,
   "id": "8792007d",
   "metadata": {},
   "outputs": [
    {
     "name": "stdout",
     "output_type": "stream",
     "text": [
      "{1, 2, 3, 4}\n"
     ]
    }
   ],
   "source": [
    "s = set(List)\n",
    "print(s)"
   ]
  },
  {
   "cell_type": "code",
   "execution_count": 18,
   "id": "4fc66290",
   "metadata": {},
   "outputs": [],
   "source": [
    "l = list(s)"
   ]
  },
  {
   "cell_type": "code",
   "execution_count": 19,
   "id": "22c230ad",
   "metadata": {},
   "outputs": [
    {
     "data": {
      "text/plain": [
       "[1, 2, 3, 4]"
      ]
     },
     "execution_count": 19,
     "metadata": {},
     "output_type": "execute_result"
    }
   ],
   "source": [
    "l"
   ]
  },
  {
   "cell_type": "code",
   "execution_count": null,
   "id": "914b6cc0",
   "metadata": {},
   "outputs": [],
   "source": []
  },
  {
   "cell_type": "code",
   "execution_count": null,
   "id": "09272c03",
   "metadata": {},
   "outputs": [],
   "source": [
    "Q4. Explain the difference between the union() and update() methods for a set. Give an example of\n",
    "each method."
   ]
  },
  {
   "cell_type": "code",
   "execution_count": 57,
   "id": "d11196fe",
   "metadata": {},
   "outputs": [],
   "source": [
    "s = {1, 2, 3, 4}"
   ]
  },
  {
   "cell_type": "code",
   "execution_count": 58,
   "id": "a8c2477a",
   "metadata": {},
   "outputs": [],
   "source": [
    "k = {5,6,7,8,9,4}"
   ]
  },
  {
   "cell_type": "code",
   "execution_count": 59,
   "id": "a2f4b53d",
   "metadata": {},
   "outputs": [],
   "source": [
    "p = s.union(k)"
   ]
  },
  {
   "cell_type": "code",
   "execution_count": 60,
   "id": "01179191",
   "metadata": {},
   "outputs": [
    {
     "data": {
      "text/plain": [
       "{1, 2, 3, 4, 5, 6, 7, 8, 9}"
      ]
     },
     "execution_count": 60,
     "metadata": {},
     "output_type": "execute_result"
    }
   ],
   "source": [
    "p"
   ]
  },
  {
   "cell_type": "code",
   "execution_count": null,
   "id": "44939236",
   "metadata": {},
   "outputs": [],
   "source": [
    "Union combines the sets without duplicates."
   ]
  },
  {
   "cell_type": "code",
   "execution_count": 61,
   "id": "e68e1ee6",
   "metadata": {},
   "outputs": [],
   "source": [
    "s.update(k)"
   ]
  },
  {
   "cell_type": "code",
   "execution_count": 62,
   "id": "d248ca81",
   "metadata": {},
   "outputs": [
    {
     "data": {
      "text/plain": [
       "{1, 2, 3, 4, 5, 6, 7, 8, 9}"
      ]
     },
     "execution_count": 62,
     "metadata": {},
     "output_type": "execute_result"
    }
   ],
   "source": [
    "s"
   ]
  },
  {
   "cell_type": "code",
   "execution_count": 63,
   "id": "0ad28630",
   "metadata": {},
   "outputs": [
    {
     "data": {
      "text/plain": [
       "{4, 5, 6, 7, 8, 9}"
      ]
     },
     "execution_count": 63,
     "metadata": {},
     "output_type": "execute_result"
    }
   ],
   "source": [
    "k"
   ]
  },
  {
   "cell_type": "code",
   "execution_count": null,
   "id": "e8fefe01",
   "metadata": {},
   "outputs": [],
   "source": [
    "update - updates the list elements in the set s from set k and no changes to k"
   ]
  },
  {
   "cell_type": "code",
   "execution_count": null,
   "id": "692581a5",
   "metadata": {},
   "outputs": [],
   "source": [
    "Union combines the two sets and create a new set but update updates the first set with the elements of second set."
   ]
  },
  {
   "cell_type": "code",
   "execution_count": null,
   "id": "4ff94725",
   "metadata": {},
   "outputs": [],
   "source": []
  },
  {
   "cell_type": "code",
   "execution_count": null,
   "id": "9e89fe95",
   "metadata": {},
   "outputs": [],
   "source": [
    "Q5. What is a dictionary? Give an example. Also, state whether a dictionary is ordered or unordered."
   ]
  },
  {
   "cell_type": "code",
   "execution_count": null,
   "id": "4504dc11",
   "metadata": {},
   "outputs": [],
   "source": [
    "A dictionary is a collection of key-value pairs, \n",
    "where each key is unique and maps to a corresponding value. \n",
    "It is an unordered data structure, meaning the order of elements is not guaranteed."
   ]
  },
  {
   "cell_type": "code",
   "execution_count": null,
   "id": "4e11a96c",
   "metadata": {},
   "outputs": [],
   "source": []
  },
  {
   "cell_type": "code",
   "execution_count": null,
   "id": "f637dbfd",
   "metadata": {},
   "outputs": [],
   "source": [
    "Q6. Can we create a nested dictionary? If so, please give an example by creating a simple one-level\n",
    "nested dictionary."
   ]
  },
  {
   "cell_type": "code",
   "execution_count": null,
   "id": "ef1bd9c2",
   "metadata": {},
   "outputs": [],
   "source": [
    "yes, a nested dictionary can be create."
   ]
  },
  {
   "cell_type": "code",
   "execution_count": 64,
   "id": "ac858dac",
   "metadata": {},
   "outputs": [],
   "source": [
    "a ={'roll.no' : 1, 'firstname' : 'nanda', 'lastname' : 'kishore', 'marks_obtained' : {'10th' : 7.62 , '12th' : 9.3 ,  'B.tech' : 7.65}}"
   ]
  },
  {
   "cell_type": "code",
   "execution_count": 65,
   "id": "59999573",
   "metadata": {},
   "outputs": [
    {
     "data": {
      "text/plain": [
       "{'roll.no': 1,\n",
       " 'firstname': 'nanda',\n",
       " 'lastname': 'kishore',\n",
       " 'marks_obtained': {'10th': 7.62, '12th': 9.3, 'B.tech': 7.65}}"
      ]
     },
     "execution_count": 65,
     "metadata": {},
     "output_type": "execute_result"
    }
   ],
   "source": [
    "a"
   ]
  },
  {
   "cell_type": "code",
   "execution_count": 66,
   "id": "8c9f0cfc",
   "metadata": {},
   "outputs": [
    {
     "data": {
      "text/plain": [
       "{'10th': 7.62, '12th': 9.3, 'B.tech': 7.65}"
      ]
     },
     "execution_count": 66,
     "metadata": {},
     "output_type": "execute_result"
    }
   ],
   "source": [
    "a['marks_obtained']"
   ]
  },
  {
   "cell_type": "code",
   "execution_count": 69,
   "id": "b9648af2",
   "metadata": {},
   "outputs": [
    {
     "data": {
      "text/plain": [
       "9.3"
      ]
     },
     "execution_count": 69,
     "metadata": {},
     "output_type": "execute_result"
    }
   ],
   "source": [
    "a['marks_obtained']['12th']"
   ]
  },
  {
   "cell_type": "code",
   "execution_count": null,
   "id": "aee80ac3",
   "metadata": {},
   "outputs": [],
   "source": []
  },
  {
   "cell_type": "code",
   "execution_count": null,
   "id": "f36cf673",
   "metadata": {},
   "outputs": [],
   "source": [
    "Q7. Using setdefault() method, create key named topics in the given dictionary and also add the value of\n",
    "the key as this list ['Python', 'Machine Learning’, 'Deep Learning']\n",
    "dict1 = {'language' : 'Python', 'course': 'Data Science Masters'}"
   ]
  },
  {
   "cell_type": "code",
   "execution_count": 84,
   "id": "d9c9e23e",
   "metadata": {},
   "outputs": [],
   "source": [
    "dict1 = {'language' : 'Python', 'course': 'Data Science Masters'}\n",
    "list = ['Python', 'Machine Learning', 'Deep Learning']"
   ]
  },
  {
   "cell_type": "code",
   "execution_count": 88,
   "id": "39af4a6e",
   "metadata": {},
   "outputs": [
    {
     "data": {
      "text/plain": [
       "['Python', 'Machine Learning', 'Deep Learning']"
      ]
     },
     "execution_count": 88,
     "metadata": {},
     "output_type": "execute_result"
    }
   ],
   "source": [
    "dict1.setdefault('topics', ['Python', 'Machine Learning', 'Deep Learning'])"
   ]
  },
  {
   "cell_type": "code",
   "execution_count": 89,
   "id": "052109f0",
   "metadata": {},
   "outputs": [
    {
     "data": {
      "text/plain": [
       "{'language': 'Python',\n",
       " 'course': 'Data Science Masters',\n",
       " 'topics': ['Python', 'Machine Learning', 'Deep Learning']}"
      ]
     },
     "execution_count": 89,
     "metadata": {},
     "output_type": "execute_result"
    }
   ],
   "source": [
    "dict1"
   ]
  },
  {
   "cell_type": "code",
   "execution_count": null,
   "id": "8193fece",
   "metadata": {},
   "outputs": [],
   "source": []
  },
  {
   "cell_type": "code",
   "execution_count": null,
   "id": "fda340c5",
   "metadata": {},
   "outputs": [],
   "source": [
    "Q8. What are the three view objects in dictionaries? Use the three in-built methods in python to display\n",
    "these three view objects for the given dictionary.\n",
    "dict1 = {'Sport': 'Cricket' , 'Teams': ['India', 'Australia', 'England', 'South Africa', 'Sri Lanka', 'New Zealand']}"
   ]
  },
  {
   "cell_type": "code",
   "execution_count": 78,
   "id": "cc6ab501",
   "metadata": {},
   "outputs": [],
   "source": [
    "dict1 = {'Sport': 'Cricket' , 'Teams': ['India', 'Australia', 'England', 'South Africa', 'Sri Lanka', 'New Zealand']}"
   ]
  },
  {
   "cell_type": "code",
   "execution_count": null,
   "id": "1cfbb435",
   "metadata": {},
   "outputs": [],
   "source": [
    ".values()"
   ]
  },
  {
   "cell_type": "code",
   "execution_count": null,
   "id": "00275e98",
   "metadata": {},
   "outputs": [],
   "source": [
    ".keys()"
   ]
  },
  {
   "cell_type": "code",
   "execution_count": null,
   "id": "df8a33d7",
   "metadata": {},
   "outputs": [],
   "source": [
    ".items()"
   ]
  },
  {
   "cell_type": "code",
   "execution_count": 81,
   "id": "8f519765",
   "metadata": {},
   "outputs": [
    {
     "data": {
      "text/plain": [
       "dict_keys(['Sport', 'Teams'])"
      ]
     },
     "execution_count": 81,
     "metadata": {},
     "output_type": "execute_result"
    }
   ],
   "source": [
    "dict1.keys()"
   ]
  },
  {
   "cell_type": "code",
   "execution_count": 82,
   "id": "bef17218",
   "metadata": {},
   "outputs": [
    {
     "data": {
      "text/plain": [
       "dict_values(['Cricket', ['India', 'Australia', 'England', 'South Africa', 'Sri Lanka', 'New Zealand']])"
      ]
     },
     "execution_count": 82,
     "metadata": {},
     "output_type": "execute_result"
    }
   ],
   "source": [
    "dict1.values()"
   ]
  },
  {
   "cell_type": "code",
   "execution_count": 83,
   "id": "570f91b8",
   "metadata": {},
   "outputs": [
    {
     "data": {
      "text/plain": [
       "dict_items([('Sport', 'Cricket'), ('Teams', ['India', 'Australia', 'England', 'South Africa', 'Sri Lanka', 'New Zealand'])])"
      ]
     },
     "execution_count": 83,
     "metadata": {},
     "output_type": "execute_result"
    }
   ],
   "source": [
    "dict1.items()"
   ]
  },
  {
   "cell_type": "code",
   "execution_count": null,
   "id": "cad5479d",
   "metadata": {},
   "outputs": [],
   "source": []
  },
  {
   "cell_type": "code",
   "execution_count": null,
   "id": "2f48f69c",
   "metadata": {},
   "outputs": [],
   "source": []
  },
  {
   "cell_type": "code",
   "execution_count": null,
   "id": "0613ed2c",
   "metadata": {},
   "outputs": [],
   "source": []
  },
  {
   "cell_type": "code",
   "execution_count": null,
   "id": "c6776c49",
   "metadata": {},
   "outputs": [],
   "source": []
  },
  {
   "cell_type": "code",
   "execution_count": null,
   "id": "8eac870e",
   "metadata": {},
   "outputs": [],
   "source": []
  },
  {
   "cell_type": "code",
   "execution_count": null,
   "id": "0bd8f472",
   "metadata": {},
   "outputs": [],
   "source": []
  },
  {
   "cell_type": "code",
   "execution_count": null,
   "id": "dc1fd801",
   "metadata": {},
   "outputs": [],
   "source": []
  },
  {
   "cell_type": "code",
   "execution_count": null,
   "id": "2bffd300",
   "metadata": {},
   "outputs": [],
   "source": []
  },
  {
   "cell_type": "code",
   "execution_count": null,
   "id": "533562ea",
   "metadata": {},
   "outputs": [],
   "source": []
  }
 ],
 "metadata": {
  "kernelspec": {
   "display_name": "Python 3 (ipykernel)",
   "language": "python",
   "name": "python3"
  },
  "language_info": {
   "codemirror_mode": {
    "name": "ipython",
    "version": 3
   },
   "file_extension": ".py",
   "mimetype": "text/x-python",
   "name": "python",
   "nbconvert_exporter": "python",
   "pygments_lexer": "ipython3",
   "version": "3.9.13"
  }
 },
 "nbformat": 4,
 "nbformat_minor": 5
}
